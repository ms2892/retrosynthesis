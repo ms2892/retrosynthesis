{
 "cells": [
  {
   "cell_type": "code",
   "execution_count": 1,
   "metadata": {},
   "outputs": [],
   "source": [
    "from rdkit import *"
   ]
  },
  {
   "cell_type": "code",
   "execution_count": 2,
   "metadata": {},
   "outputs": [],
   "source": [
    "smile = '[N-]=[N+]=NCC1(C2CCCCC2)CCNCC1'"
   ]
  },
  {
   "cell_type": "code",
   "execution_count": 3,
   "metadata": {},
   "outputs": [
    {
     "name": "stderr",
     "output_type": "stream",
     "text": [
      "2023-07-17 01:08:31.777489: I tensorflow/core/util/port.cc:110] oneDNN custom operations are on. You may see slightly different numerical results due to floating-point round-off errors from different computation orders. To turn them off, set the environment variable `TF_ENABLE_ONEDNN_OPTS=0`.\n",
      "2023-07-17 01:08:31.780057: I tensorflow/tsl/cuda/cudart_stub.cc:28] Could not find cuda drivers on your machine, GPU will not be used.\n",
      "2023-07-17 01:08:31.836663: I tensorflow/tsl/cuda/cudart_stub.cc:28] Could not find cuda drivers on your machine, GPU will not be used.\n",
      "2023-07-17 01:08:31.837724: I tensorflow/core/platform/cpu_feature_guard.cc:182] This TensorFlow binary is optimized to use available CPU instructions in performance-critical operations.\n",
      "To enable the following instructions: AVX2 AVX512F AVX512_VNNI FMA, in other operations, rebuild TensorFlow with the appropriate compiler flags.\n",
      "2023-07-17 01:08:32.627623: W tensorflow/compiler/tf2tensorrt/utils/py_utils.cc:38] TF-TRT Warning: Could not find TensorRT\n"
     ]
    }
   ],
   "source": [
    "from split_environment import *"
   ]
  },
  {
   "cell_type": "code",
   "execution_count": 4,
   "metadata": {},
   "outputs": [],
   "source": [
    "bonds = get_all_bonds_idxs(Chem.MolFromSmiles(smile))\n",
    "bonds\n",
    "\n",
    "import itertools\n",
    "import json"
   ]
  },
  {
   "cell_type": "code",
   "execution_count": 12,
   "metadata": {},
   "outputs": [
    {
     "data": {
      "text/plain": [
       "[[0, 1],\n",
       " [1, 2],\n",
       " [2, 3],\n",
       " [3, 4],\n",
       " [4, 5],\n",
       " [4, 11],\n",
       " [5, 6],\n",
       " [6, 7],\n",
       " [7, 8],\n",
       " [8, 9],\n",
       " [9, 10],\n",
       " [10, 5],\n",
       " [11, 12],\n",
       " [12, 13],\n",
       " [13, 14],\n",
       " [14, 15],\n",
       " [15, 4]]"
      ]
     },
     "execution_count": 12,
     "metadata": {},
     "output_type": "execute_result"
    }
   ],
   "source": [
    "bonds"
   ]
  },
  {
   "cell_type": "code",
   "execution_count": 5,
   "metadata": {},
   "outputs": [],
   "source": [
    "with open(f'purchasable/{smile}.json','r') as f:\n",
    "    configDict= json.load(f)"
   ]
  },
  {
   "cell_type": "code",
   "execution_count": 14,
   "metadata": {},
   "outputs": [
    {
     "name": "stdout",
     "output_type": "stream",
     "text": [
      "[([2, 3],), ([2, 3],), ([2, 3],), ([2, 3],), ([2, 3], [4, 5]), ([2, 3], [4, 5]), ([2, 3], [4, 5]), ([2, 3], [4, 5]), ([2, 3], [4, 5]), ([2, 3], [4, 5]), ([1, 2], [2, 3]), ([2, 3], [4, 5]), ([2, 3], [4, 5]), ([2, 3], [4, 5]), ([2, 3], [4, 5]), ([2, 3], [4, 5]), ([2, 3], [4, 5]), ([2, 3], [4, 5]), ([2, 3], [4, 5]), ([1, 2], [2, 3]), ([2, 3], [4, 5]), ([2, 3], [4, 5]), ([2, 3], [4, 5]), ([2, 3], [3, 4], [4, 5]), ([2, 3], [3, 4], [4, 5]), ([2, 3], [3, 4], [4, 5]), ([2, 3], [3, 4], [4, 5]), ([2, 3], [3, 4], [4, 5]), ([2, 3], [3, 4], [4, 5]), ([2, 3], [3, 4], [4, 5]), ([2, 3], [3, 4], [4, 5]), ([2, 3], [3, 4], [4, 5]), ([2, 3], [3, 4], [4, 5]), ([2, 3], [3, 4], [4, 5]), ([2, 3], [3, 4], [4, 5]), ([2, 3], [3, 4], [4, 5]), ([2, 3], [3, 4], [4, 5]), ([2, 3], [3, 4], [4, 5]), ([2, 3], [3, 4], [4, 5]), ([2, 3], [3, 4], [4, 5]), ([2, 3], [3, 4], [4, 5]), ([2, 3], [3, 4], [4, 5]), ([0, 1], [1, 2], [3, 4], [4, 5]), ([1, 2], [2, 3], [3, 4], [4, 5]), ([0, 1], [1, 2], [3, 4], [4, 5]), ([1, 2], [2, 3], [3, 4], [4, 5]), ([1, 2], [2, 3], [3, 4], [4, 5])]\n",
      "defaultdict(<class 'set'>, {'[N-]=[N+]=NCC1(C2CCCCC2)CCNCC1': {(0, 0, 1, 0, 0, 0, 0, 0, 0, 0, 0, 0, 0, 0, 0, 0, 0), (0, 1, 1, 1, 1, 0, 0, 0, 0, 0, 0, 0, 0, 0, 0, 0, 0), (0, 1, 1, 0, 0, 0, 0, 0, 0, 0, 0, 0, 0, 0, 0, 0, 0), (0, 0, 1, 1, 1, 0, 0, 0, 0, 0, 0, 0, 0, 0, 0, 0, 0), (0, 0, 1, 0, 1, 0, 0, 0, 0, 0, 0, 0, 0, 0, 0, 0, 0), (1, 1, 0, 1, 1, 0, 0, 0, 0, 0, 0, 0, 0, 0, 0, 0, 0)}})\n"
     ]
    }
   ],
   "source": [
    "configDict\n",
    "\n",
    "from neighbour_value_functions import *\n",
    "\n",
    "cutBonds = []\n",
    "\n",
    "for i in configDict[smile]:\n",
    "    num_cuts = len(i)-1\n",
    "    combinations = itertools.combinations(bonds,num_cuts)\n",
    "    mnm_sims = float('inf')\n",
    "    mnm_bonds = []\n",
    "    for cuts in combinations:\n",
    "        mols = break_bond(Chem.MolFromSmiles(smile),cuts)\n",
    "        if len(mols)==len(i):\n",
    "            smile_frags = [Chem.MolToSmiles(j) for j in mols]\n",
    "\n",
    "            similarityClass = TanimotoCalculator(i)\n",
    "\n",
    "            sims = [similarityClass._get_nearest_neighbour_dist(j) for j in smile_frags]\n",
    "            # print(sims)\n",
    "            if np.mean(sims)<mnm_sims:\n",
    "                mnm_sims = np.mean(sims)\n",
    "                mnm_bonds = cuts\n",
    "    cutBonds.append(mnm_bonds)\n",
    "\n",
    "print(cutBonds)\n",
    "from collections import defaultdict\n",
    "bondDict=defaultdict(set)\n",
    "\n",
    "for cuts in cutBonds:\n",
    "    bondMap = [0]*len(bonds)\n",
    "    for cut in cuts:\n",
    "        index = bonds.index(cut)\n",
    "        bondMap[index]=1\n",
    "    bondDict[smile].add(tuple(bondMap))\n",
    "\n",
    "print(bondDict)\n",
    "bondDict[smile] = [list(i) for i in bondDict[smile]]\n",
    "\n",
    "with open(f'splits/{smile}.json','w') as f:\n",
    "    json.dump(bondDict,f)\n"
   ]
  },
  {
   "cell_type": "code",
   "execution_count": null,
   "metadata": {},
   "outputs": [
    {
     "data": {
      "text/plain": [
       "[((2, 1), ('3', '4')),\n",
       " ((2, 3), ('3', '14')),\n",
       " ((1, 25), ('8', '15')),\n",
       " ((9, 10), ('9', '15')),\n",
       " ((5, 6), ('14', '16'))]"
      ]
     },
     "execution_count": 5,
     "metadata": {},
     "output_type": "execute_result"
    }
   ],
   "source": [
    "get_BRICS_bonds(Chem.MolFromSmiles(smile))"
   ]
  },
  {
   "cell_type": "code",
   "execution_count": null,
   "metadata": {},
   "outputs": [],
   "source": []
  }
 ],
 "metadata": {
  "kernelspec": {
   "display_name": "syntheseus",
   "language": "python",
   "name": "python3"
  },
  "language_info": {
   "codemirror_mode": {
    "name": "ipython",
    "version": 3
   },
   "file_extension": ".py",
   "mimetype": "text/x-python",
   "name": "python",
   "nbconvert_exporter": "python",
   "pygments_lexer": "ipython3",
   "version": "3.10.10"
  },
  "orig_nbformat": 4
 },
 "nbformat": 4,
 "nbformat_minor": 2
}
